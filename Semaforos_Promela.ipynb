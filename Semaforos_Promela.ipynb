{
  "nbformat": 4,
  "nbformat_minor": 0,
  "metadata": {
    "colab": {
      "name": "Semaforos Promela.ipynb",
      "provenance": [],
      "authorship_tag": "ABX9TyN0dcQvZFcQUljJStDL19Zb",
      "include_colab_link": true
    },
    "kernelspec": {
      "name": "python3",
      "display_name": "Python 3"
    }
  },
  "cells": [
    {
      "cell_type": "markdown",
      "metadata": {
        "id": "view-in-github",
        "colab_type": "text"
      },
      "source": [
        "<a href=\"https://colab.research.google.com/github/ScueroInc/AstraDocumentacion/blob/master/Semaforos_Promela.ipynb\" target=\"_parent\"><img src=\"https://colab.research.google.com/assets/colab-badge.svg\" alt=\"Open In Colab\"/></a>"
      ]
    },
    {
      "cell_type": "code",
      "metadata": {
        "id": "30JnBqlVJBsd"
      },
      "source": [
        "!apt install spin"
      ],
      "execution_count": null,
      "outputs": []
    },
    {
      "cell_type": "code",
      "metadata": {
        "id": "7UwGblIzJGgJ",
        "outputId": "9fc79cd1-6e6d-4b6e-e471-68ec81aa4c1a",
        "colab": {
          "base_uri": "https://localhost:8080/",
          "height": 34
        }
      },
      "source": [
        "%%writefile sem.pml\n",
        "\n",
        "#define wait(s) atomic{ s>0 -> s--}\n",
        "#define signal(s) s++\n",
        "\n",
        "byte s = 1\n",
        "\n",
        "active [5] proctype P() {\n",
        "    byte i;\n",
        "    for(i : 1..100){\n",
        "      printf(\"%d NCS 1\\n\", _pid);\n",
        "      printf(\"%d NCS 2\\n\", _pid);\n",
        "      printf(\"%d NCS 3\\n\", _pid);\n",
        "      wait(s)\n",
        "      assert(s>=0)\n",
        "      printf(\"%d Critical 1\\n\", _pid);\n",
        "      printf(\"%d Critical 2\\n\", _pid);\n",
        "      printf(\"%d Critical 3\\n\", _pid);\n",
        "\n",
        "      signal(s)\n",
        "    }\n",
        "}"
      ],
      "execution_count": 10,
      "outputs": [
        {
          "output_type": "stream",
          "text": [
            "Overwriting sem.pml\n"
          ],
          "name": "stdout"
        }
      ]
    },
    {
      "cell_type": "code",
      "metadata": {
        "id": "ouNcLFUnJGi6"
      },
      "source": [
        "!spin -run sem.pml\n"
      ],
      "execution_count": null,
      "outputs": []
    },
    {
      "cell_type": "code",
      "metadata": {
        "id": "OoqABoE9JGlq"
      },
      "source": [
        ""
      ],
      "execution_count": null,
      "outputs": []
    },
    {
      "cell_type": "code",
      "metadata": {
        "id": "dtcf1Ef6JGn9"
      },
      "source": [
        ""
      ],
      "execution_count": null,
      "outputs": []
    },
    {
      "cell_type": "code",
      "metadata": {
        "id": "7pBcABwZJGtD"
      },
      "source": [
        ""
      ],
      "execution_count": null,
      "outputs": []
    }
  ]
}